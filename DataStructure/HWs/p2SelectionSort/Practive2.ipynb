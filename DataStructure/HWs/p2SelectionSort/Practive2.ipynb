def selectionSorting(arr):
    for i in range(len(arr)-1, 0, -1):
        max_i = 0
        max_v = 0
        for j in range(i):
            if arr[j] > max_v:
                max_v = arr[j]
                max_i = j
        if arr[i] < max_v:
            temp = arr[i]
            arr[i], arr[max_i] = arr[max_i], temp
    return arr
